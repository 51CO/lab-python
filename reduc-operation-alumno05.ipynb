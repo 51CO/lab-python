{
 "cells": [
  {
   "cell_type": "markdown",
   "metadata": {},
   "source": [
    "### Reduction operation: the sum of the numbers in the range [0, a)"
   ]
  },
  {
   "cell_type": "code",
   "execution_count": 18,
   "metadata": {},
   "outputs": [
    {
     "name": "stdout",
     "output_type": "stream",
     "text": [
      "suma= 499999500000\n",
      "Time taken by reduction operation: 0.30724596977233887 seconds\n",
      "336 ms ± 3.14 ms per loop (mean ± std. dev. of 2 runs, 1 loop each)\n",
      "\n",
      " \t Computing the sum of numbers in the range [0, value): 499999500000\n",
      "\n"
     ]
    }
   ],
   "source": [
    "import time\n",
    "\n",
    "def reduc_operation(a):\n",
    "    \"\"\"Compute the sum of the numbers in the range [0, a).\"\"\"\n",
    "    x = 0\n",
    "    for i in range(a):\n",
    "        x += i\n",
    "    return x\n",
    "\n",
    "# Secuencial\n",
    "\n",
    "value = 1000000\n",
    "\n",
    "initialTime = time.time()\n",
    "suma = reduc_operation(value)\n",
    "finalTime = time.time()\n",
    "print(\"suma=\", suma) #Valor de la operación, para asegurar que se obtiene el mismo resultado independientemente de la optimización.  \n",
    "print(\"Time taken by reduction operation:\", (finalTime - initialTime), \"seconds\")\n",
    "\n",
    "# Utilizando las operaciones mágicas de ipython\n",
    "%timeit -r 2 reduc_operation(value)\n",
    "\n",
    "print(f\"\\n \\t Computing the sum of numbers in the range [0, value): {suma}\\n\")"
   ]
  },
  {
   "cell_type": "markdown",
   "metadata": {},
   "source": [
    "# Ejercicio 1"
   ]
  },
  {
   "cell_type": "raw",
   "metadata": {},
   "source": [
    "\n",
    "a) Suma de listas Python mediante a)bucle for ; b)función \"sum\"\n"
   ]
  },
  {
   "cell_type": "code",
   "execution_count": 29,
   "metadata": {},
   "outputs": [
    {
     "name": "stdout",
     "output_type": "stream",
     "text": [
      "suma= 499999500000\n",
      "Tiempo de suma mediante bucle for: 0.3028547763824463 segundos\n",
      "267 ms ± 16.9 ms per loop (mean ± std. dev. of 2 runs, 1 loop each)\n",
      "\n",
      " \t Computing the sum of numbers in the range [0, value): 499999500000\n",
      "\n",
      "Tiempo de suma mediante funcion universal sum: 0.10219120979309082 segundos\n",
      "suma= 499999500000\n",
      "79.7 ms ± 344 µs per loop (mean ± std. dev. of 2 runs, 10 loops each)\n"
     ]
    }
   ],
   "source": [
    "import time\n",
    "import sys\n",
    "\n",
    "#valor = 1000000\n",
    "valor = int(sys.argv[1])\n",
    "\n",
    "lista = range(valor)\n",
    "\n",
    "# a). Con bucle for. \n",
    "\n",
    "def reduc_operation_for(a):\n",
    "    \"\"\"Compute the sum of the numbers in the range [0, a).\"\"\"\n",
    "    x = 0\n",
    "    for i in a:\n",
    "        x += i\n",
    "    return x\n",
    "\n",
    "# Medida de tiempo Secuencial\n",
    "initialTime = time.time()\n",
    "suma = reduc_operation_for(lista)\n",
    "finalTime = time.time()\n",
    "print(\"suma=\", suma)\n",
    "print(\"Tiempo de suma mediante bucle for:\", (finalTime - initialTime), \"segundos\")\n",
    "\n",
    "# Medida de tiempo Utilizando las operaciones mágicas de ipython\n",
    "%timeit -r 2 reduc_operation_for(lista)\n",
    "\n",
    "print(f\"\\n \\t Computing the sum of numbers in the range [0, value): {suma}\\n\")\n",
    "\n",
    "\n",
    "#b). Con función \"sum\"\n",
    "\n",
    "def reduc_operation_sum(a):\n",
    "    \"\"\"Compute the sum of the numbers in the range [0, a).\"\"\"\n",
    "    return sum (a)\n",
    "\n",
    "#Medida de tiempo secuencial: \n",
    "initialTime = time.time()\n",
    "suma = reduc_operation_sum(lista)\n",
    "finalTime = time.time()\n",
    "print(\"Tiempo de suma mediante funcion universal sum:\", (finalTime - initialTime), \"segundos\")\n",
    "print(\"suma=\", suma)\n",
    "# Utilizando operación mágica %timeit \n",
    "%timeit -r 2 reduc_operation_sum(lista)\n"
   ]
  },
  {
   "cell_type": "raw",
   "metadata": {},
   "source": [
    "\n",
    "b) Suma de arrays NumPy mediante a)bucle for ; b)función \"np.sum\"\n"
   ]
  },
  {
   "cell_type": "code",
   "execution_count": 33,
   "metadata": {},
   "outputs": [
    {
     "name": "stdout",
     "output_type": "stream",
     "text": [
      "Tiempo de suma mediante bucle for + sobre array np: 1.7424821853637695 segundos\n",
      "suma= 499999500000\n",
      "1.75 s ± 5.35 ms per loop (mean ± std. dev. of 2 runs, 1 loop each)\n",
      "\n",
      " \t Computing the sum of numbers in the range [0, value): 499999500000\n",
      "\n",
      "Tiempo de suma mediante funcion universal np.sum: 0.004561185836791992 segundos\n",
      "suma= 499999500000\n",
      "3.59 ms ± 55.3 µs per loop (mean ± std. dev. of 2 runs, 100 loops each)\n"
     ]
    }
   ],
   "source": [
    "import time\n",
    "import numpy as np\n",
    "\n",
    "#valor = 1000000\n",
    "valor = int(sys.argv[1])\n",
    "array = np.array(range(valor), dtype=np.int32)\n",
    "\n",
    "# a). Con bucle for. \n",
    "def reduc_operation_for(a):\n",
    "    \"\"\"Compute the sum of the numbers in the range [0, a).\"\"\"\n",
    "    x = 0\n",
    "    for i in a:\n",
    "        x += i\n",
    "    return x\n",
    "\n",
    "# Medida de tiempo Secuencial\n",
    "initialTime = time.time()\n",
    "suma = reduc_operation_for(array)\n",
    "finalTime = time.time()\n",
    "print(\"Tiempo de suma mediante bucle for + sobre array np:\", (finalTime - initialTime), \"segundos\")\n",
    "print(\"suma=\", suma)\n",
    "# Medida de tiempo Utilizando las operaciones mágicas de ipython\n",
    "%timeit -r 2 reduc_operation_for(array)\n",
    "print(f\"\\n \\t Computing the sum of numbers in the range [0, value): {suma}\\n\")\n",
    "\n",
    "\n",
    "#b). Con función universal \"sum\"\n",
    "\n",
    "def reduc_operation_sum(a):\n",
    "    \"\"\"Compute the sum of the numbers in the range [0, a).\"\"\"\n",
    "    return np.sum (a)\n",
    "\n",
    "#Medida de tiempo secuencial: \n",
    "initialTime = time.time()\n",
    "suma = reduc_operation_sum(array)\n",
    "finalTime = time.time()\n",
    "print(\"Tiempo de suma mediante funcion universal np.sum:\", (finalTime - initialTime), \"segundos\")\n",
    "print(\"suma=\", suma)\n",
    "# Utilizando operación mágica %timeit \n",
    "%timeit -r 2 reduc_operation_sum(array)\n"
   ]
  },
  {
   "cell_type": "raw",
   "metadata": {},
   "source": [
    "c) Explicación: \n",
    "\n",
    "En el apartado a), el tiempo de ejecución pasa de 267ms usando bucle for, a 80ms usando la función nativa de suma de lista (atendiendo a las medidas ofrecidas por la función mágica de ipython %timeit, más precisa). Utilizar la función nativa en este caso ha acelerado la función \"reduc_operation\" en aproximadamente un factor de tres. \n",
    "\n",
    "En el apartado b), utilizando arrays numpy, observamos la misma tendencia de forma más pronunciada, optimizando el anterior código \"reduc_operation_sum\" (que usaba la función universal sum) con la función de numpy np.sum. El uso de arrays numpy y su propia función universal optimiza la velocidad del código en un factor de aproximadamente 70. \n",
    "\n",
    "Por otro lado, cabe mencionar que el uso de arrays numpy, en este caso, lejos de mejorar el funcionamiento del bucle for, lo ha ralentizado considerablemente (de 267ms a 1.75s). Teóricamente, numpy también debería acelerar el bucle for (si bien no tanto como al usar funciones universales), de modo que probablemente exista algún error no detectado en el código o un comportamiento interno impredecible que empeore el rendimiento de este bucle for concreto cuando itera sobre el array numpy declarado. \n"
   ]
  },
  {
   "cell_type": "markdown",
   "metadata": {},
   "source": [
    "# Ejercicio 2. "
   ]
  },
  {
   "cell_type": "raw",
   "metadata": {},
   "source": [
    "a) Usando njit de Numba. "
   ]
  },
  {
   "cell_type": "code",
   "execution_count": 21,
   "metadata": {},
   "outputs": [
    {
     "name": "stdout",
     "output_type": "stream",
     "text": [
      "el tipo de datos de la variable lista es <class 'range'>\n",
      "suma= 499999500000\n",
      "Tiempo de suma mediante bucle for + np + numba: 0.5117952823638916 segundos\n",
      "1.46 ms ± 7.68 µs per loop (mean ± std. dev. of 7 runs, 1000 loops each)\n",
      "\n",
      " \t Computing the sum of numbers in the range [0, value): 499999500000\n",
      "\n",
      "suma= 499999500000\n",
      "Tiempo de suma mediante funcion universal np.sum + numba: 0.4398212432861328 segundos\n",
      "910 µs ± 7.01 µs per loop (mean ± std. dev. of 7 runs, 1000 loops each)\n"
     ]
    }
   ],
   "source": [
    "import time\n",
    "import numpy as np\n",
    "from numba import njit\n",
    "\n",
    "#valor = 1000000\n",
    "valor = int(sys.argv[1])\n",
    "\n",
    "array = np.array(range(valor), dtype=np.int32)\n",
    "\n",
    "# a). Con bucle for. \n",
    "\n",
    "@njit\n",
    "def reduc_operation_for(a):\n",
    "    \"\"\"Compute the sum of the numbers in the range [0, a).\"\"\"\n",
    "    x = 0\n",
    "    for i in a:\n",
    "        x += i\n",
    "    return x\n",
    "\n",
    "# Medida de tiempo Secuencial\n",
    "initialTime = time.time()\n",
    "suma = reduc_operation_for(array)\n",
    "finalTime = time.time()\n",
    "print(\"suma=\", suma)\n",
    "print(\"Tiempo de suma mediante bucle for + np + numba:\", (finalTime - initialTime), \"segundos\")\n",
    "\n",
    "# Medida de tiempo Utilizando las operaciones mágicas de ipython\n",
    "%timeit -r 7 reduc_operation_for(array)\n",
    "\n",
    "print(f\"\\n \\t Computing the sum of numbers in the range [0, value): {suma}\\n\")\n",
    "\n",
    "\n",
    "#b). Con función \"sum\"\n",
    "@njit\n",
    "def reduc_operation_sum(a):\n",
    "    \"\"\"Compute the sum of the numbers in the range [0, a).\"\"\"\n",
    "    return np.sum (a)\n",
    "\n",
    "#Medida de tiempo secuencial: \n",
    "initialTime = time.time()\n",
    "suma = reduc_operation_sum(array)\n",
    "finalTime = time.time()\n",
    "print(\"suma=\", suma)\n",
    "print(\"Tiempo de suma mediante funcion universal np.sum + numba:\", (finalTime - initialTime), \"segundos\")\n",
    "\n",
    "# Utilizando operación mágica %timeit \n",
    "%timeit -r 7 reduc_operation_sum(array)\n"
   ]
  },
  {
   "cell_type": "raw",
   "metadata": {},
   "source": [
    "b) Interpretación:\n",
    "\n",
    "Con numba se obtiene una mejora muy sustancial de rendimiento en ambas funciones:\n",
    "- sobre la función que utiliza funciones universales, \"reduc_operation_sum\", se logra una mejoría de 3.6ms a 0.91ms.\n",
    "- sobre la función que utiliza un bucle for, \"reduc_operation_for\", se aprecia un drástico descenso en el tiempo de ejecución: se pasa de 1.75 segundos con numpy a 1.46ms. \n",
    "\n",
    "Cabe mencionar también la gran diferencia entre las medidas de tiempo obtenidas con time.time y %timeit. Las primeras, con time.time, miden tiempos de ejecución mucho más largos que los de %timeit. Esto se explica con el hecho de que miden la primera vez que se ejecuta su respectiva función, y por tanto, miden el tiempo que tarda, además de en ejecutarse, en compilarse con numba. La segunda vez que se ejecuta la función es cuando se aprecia la ganancia de velocidad, medida con %timeit, cuando la función ya se encuentra compilada y no debe interpretarse. "
   ]
  }
 ],
 "metadata": {
  "kernelspec": {
   "display_name": "Python 3",
   "language": "python",
   "name": "python3"
  },
  "language_info": {
   "codemirror_mode": {
    "name": "ipython",
    "version": 3
   },
   "file_extension": ".py",
   "mimetype": "text/x-python",
   "name": "python",
   "nbconvert_exporter": "python",
   "pygments_lexer": "ipython3",
   "version": "3.8.5"
  }
 },
 "nbformat": 4,
 "nbformat_minor": 5
}
