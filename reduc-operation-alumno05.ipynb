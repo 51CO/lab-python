{
 "cells": [
  {
   "cell_type": "markdown",
   "metadata": {},
   "source": [
    "### Reduction operation: the sum of the numbers in the range [0, a)"
   ]
  },
  {
   "cell_type": "code",
   "execution_count": 17,
   "metadata": {},
   "outputs": [
    {
     "name": "stdout",
     "output_type": "stream",
     "text": [
      "Time taken by reduction operation: 0.3455212116241455 seconds\n",
      "270 ms ± 18.3 ms per loop (mean ± std. dev. of 2 runs, 1 loop each)\n",
      "\n",
      " \t Computing the sum of numbers in the range [0, value): 499999500000\n",
      "\n"
     ]
    }
   ],
   "source": [
    "import time\n",
    "\n",
    "def reduc_operation(a):\n",
    "    \"\"\"Compute the sum of the numbers in the range [0, a).\"\"\"\n",
    "    x = 0\n",
    "    for i in range(a):\n",
    "        x += i\n",
    "    return x\n",
    "\n",
    "# Secuencial\n",
    "\n",
    "value = 1000000\n",
    "\n",
    "initialTime = time.time()\n",
    "suma = reduc_operation(value)\n",
    "finalTime = time.time()\n",
    "\n",
    "print(\"Time taken by reduction operation:\", (finalTime - initialTime), \"seconds\")\n",
    "\n",
    "# Utilizando las operaciones mágicas de ipython\n",
    "%timeit -r 2 reduc_operation(value)\n",
    "\n",
    "print(f\"\\n \\t Computing the sum of numbers in the range [0, value): {suma}\\n\")"
   ]
  },
  {
   "cell_type": "raw",
   "metadata": {},
   "source": [
    "\n",
    "a) Suma de listas Python mediante a)bucle for ; b)función \"sum\"\n"
   ]
  },
  {
   "cell_type": "code",
   "execution_count": 16,
   "metadata": {},
   "outputs": [
    {
     "name": "stdout",
     "output_type": "stream",
     "text": [
      "Tiempo de suma mediante bucle for: 0.2878694534301758 segundos\n",
      "312 ms ± 26 ms per loop (mean ± std. dev. of 2 runs, 1 loop each)\n",
      "\n",
      " \t Computing the sum of numbers in the range [0, value): 499999500000\n",
      "\n",
      "Tiempo de suma mediante bucle for: 0.10105347633361816 segundos\n",
      "79.9 ms ± 209 µs per loop (mean ± std. dev. of 2 runs, 10 loops each)\n"
     ]
    }
   ],
   "source": [
    "import time\n",
    "\n",
    "lista = range(1000000)\n",
    "\n",
    "# a). Con bucle for. \n",
    "\n",
    "def reduc_operation_for(a):\n",
    "    \"\"\"Compute the sum of the numbers in the range [0, a).\"\"\"\n",
    "    x = 0\n",
    "    for i in a:\n",
    "        x += i\n",
    "    return x\n",
    "\n",
    "# Medida de tiempo Secuencial\n",
    "initialTime = time.time()\n",
    "suma = reduc_operation_for(lista)\n",
    "finalTime = time.time()\n",
    "\n",
    "print(\"Tiempo de suma mediante bucle for:\", (finalTime - initialTime), \"segundos\")\n",
    "\n",
    "# Medida de tiempo Utilizando las operaciones mágicas de ipython\n",
    "%timeit -r 2 reduc_operation(value)\n",
    "\n",
    "print(f\"\\n \\t Computing the sum of numbers in the range [0, value): {suma}\\n\")\n",
    "\n",
    "\n",
    "#b). Con función \"sum\"\n",
    "\n",
    "def reduc_operation_sum(a):\n",
    "    \"\"\"Compute the sum of the numbers in the range [0, a).\"\"\"\n",
    "    return sum (a)\n",
    "\n",
    "#Medida de tiempo secuencial: \n",
    "initialTime = time.time()\n",
    "suma = reduc_operation_sum(lista)\n",
    "finalTime = time.time()\n",
    "print(\"Tiempo de suma mediante bucle for:\", (finalTime - initialTime), \"segundos\")\n",
    "\n",
    "# Utilizando operación mágica %timeit \n",
    "%timeit -r 2 reduc_operation_sum(lista)\n"
   ]
  },
  {
   "cell_type": "raw",
   "metadata": {},
   "source": [
    "\n",
    "b) Suma de listas Python mediante a)bucle for ; b)función \"sum\"\n"
   ]
  },
  {
   "cell_type": "code",
   "execution_count": 15,
   "metadata": {},
   "outputs": [
    {
     "name": "stdout",
     "output_type": "stream",
     "text": [
      "Tiempo de suma mediante bucle for: 1.4571664333343506 segundos\n",
      "296 ms ± 7.15 ms per loop (mean ± std. dev. of 7 runs, 1 loop each)\n",
      "\n",
      " \t Computing the sum of numbers in the range [0, value): 499999500000\n",
      "\n",
      "Tiempo de suma mediante bucle for: 0.003214120864868164 segundos\n",
      "2.59 ms ± 30.2 µs per loop (mean ± std. dev. of 7 runs, 100 loops each)\n"
     ]
    }
   ],
   "source": [
    "import time\n",
    "import numpy as np\n",
    "\n",
    "lista = np.arange(1000000)\n",
    "\n",
    "# a). Con bucle for. \n",
    "\n",
    "def reduc_operation_for(a):\n",
    "    \"\"\"Compute the sum of the numbers in the range [0, a).\"\"\"\n",
    "    x = 0\n",
    "    for i in a:\n",
    "        x += i\n",
    "    return x\n",
    "\n",
    "# Medida de tiempo Secuencial\n",
    "initialTime = time.time()\n",
    "suma = reduc_operation_for(lista)\n",
    "finalTime = time.time()\n",
    "\n",
    "print(\"Tiempo de suma mediante bucle for:\", (finalTime - initialTime), \"segundos\")\n",
    "\n",
    "# Medida de tiempo Utilizando las operaciones mágicas de ipython\n",
    "%timeit -r 7 reduc_operation(value)\n",
    "\n",
    "print(f\"\\n \\t Computing the sum of numbers in the range [0, value): {suma}\\n\")\n",
    "\n",
    "\n",
    "#b). Con función \"sum\"\n",
    "\n",
    "def reduc_operation_sum(a):\n",
    "    \"\"\"Compute the sum of the numbers in the range [0, a).\"\"\"\n",
    "    return np.sum (a)\n",
    "\n",
    "#Medida de tiempo secuencial: \n",
    "initialTime = time.time()\n",
    "suma = reduc_operation_sum(lista)\n",
    "finalTime = time.time()\n",
    "print(\"Tiempo de suma mediante bucle for:\", (finalTime - initialTime), \"segundos\")\n",
    "\n",
    "# Utilizando operación mágica %timeit \n",
    "%timeit -r 7 reduc_operation_sum(lista)\n"
   ]
  },
  {
   "cell_type": "raw",
   "metadata": {},
   "source": [
    "c) Explicación: \n",
    "En el apartado a), el tiempo de ejecución pasa de 255ms usando bucle for, a 80ms usando la función nativa de suma de lista (atendiendo a las medidas ofrecidas por la función mágica de ipython %timeit, más precisa). Utilizar la función nativa en este caso ha acelerado la función \"reduc_operation\" en aproximadamente un factor de tres. \n",
    "En el apartado b), utilizando arrays numpy, observamos la misma tendencia de forma más pronunciada, pasando de aproximadamente 300 ms a 2.6ms. El uso de arrays numpy y su propia función universal optimiza la velocidad del código en un factor de aproximadamente 100. \n",
    "Es destacable, además, cómo el uso de numpy no corrige el \"mal funcionamiento\" de los bucles for. Su rendimiento se estanca en torno a los 300ms indiferentemente del uso de listas python o arrasy numpy. Podemos intuir que el mayor cuello de botella en la función \"reduc_operation\" original era el bucle for. "
   ]
  }
 ],
 "metadata": {
  "kernelspec": {
   "display_name": "Python 3",
   "language": "python",
   "name": "python3"
  },
  "language_info": {
   "codemirror_mode": {
    "name": "ipython",
    "version": 3
   },
   "file_extension": ".py",
   "mimetype": "text/x-python",
   "name": "python",
   "nbconvert_exporter": "python",
   "pygments_lexer": "ipython3",
   "version": "3.8.5"
  }
 },
 "nbformat": 4,
 "nbformat_minor": 5
}
